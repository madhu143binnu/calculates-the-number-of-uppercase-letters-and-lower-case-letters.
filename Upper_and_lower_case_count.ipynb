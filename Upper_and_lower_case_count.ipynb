{
  "nbformat": 4,
  "nbformat_minor": 0,
  "metadata": {
    "colab": {
      "provenance": [],
      "authorship_tag": "ABX9TyOof9U6vf0rW9/7M+WaQKAM",
      "include_colab_link": true
    },
    "kernelspec": {
      "name": "python3",
      "display_name": "Python 3"
    },
    "language_info": {
      "name": "python"
    }
  },
  "cells": [
    {
      "cell_type": "markdown",
      "metadata": {
        "id": "view-in-github",
        "colab_type": "text"
      },
      "source": [
        "<a href=\"https://colab.research.google.com/github/madhu143binnu/calculates-the-number-of-uppercase-letters-and-lower-case-letters./blob/main/Upper_and_lower_case_count.ipynb\" target=\"_parent\"><img src=\"https://colab.research.google.com/assets/colab-badge.svg\" alt=\"Open In Colab\"/></a>"
      ]
    },
    {
      "cell_type": "markdown",
      "source": [
        "\n",
        "Python Assignment -5\n",
        "\n",
        "Write a Python function that accepts a string and calculates the number of uppercase letters and lower case letters.\n",
        "\n",
        "\n",
        "\n",
        "Sample String : 'The quick Brow Fox'"
      ],
      "metadata": {
        "id": "rHrETAIu9Eik"
      }
    },
    {
      "cell_type": "code",
      "execution_count": null,
      "metadata": {
        "colab": {
          "base_uri": "https://localhost:8080/"
        },
        "id": "zPK3gyfS5CDD",
        "outputId": "d58c33a7-5b28-4183-a1a3-0e123c28ae61"
      },
      "outputs": [
        {
          "output_type": "stream",
          "name": "stdout",
          "text": [
            "enter the string:-The quick Brow Fox\n",
            "Uppercase letters:3\n",
            "lowercase letters:12\n"
          ]
        }
      ],
      "source": [
        "x = input(\"enter the string:-\")\n",
        "def char(x):\n",
        "  u=0\n",
        "  l=0\n",
        "  for i in x:\n",
        "    if i>= 'a' and i<= 'z':\n",
        "      l+=1\n",
        "    elif i>= 'A' and i<= 'Z':\n",
        "      u+=1\n",
        "  return l,u\n",
        "l,u = char(x)\n",
        "\n",
        "print(f\"Uppercase letters:{u}\")\n",
        "print(f\"lowercase letters:{l}\")\n"
      ]
    }
  ]
}